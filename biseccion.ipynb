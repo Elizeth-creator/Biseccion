{
 "cells": [
  {
   "cell_type": "markdown",
   "metadata": {},
   "source": [
    "#Tarea Bisección"
   ]
  },
  {
   "cell_type": "code",
   "execution_count": 2,
   "metadata": {},
   "outputs": [],
   "source": [
    "import numpy as np"
   ]
  },
  {
   "cell_type": "code",
   "execution_count": 3,
   "metadata": {},
   "outputs": [],
   "source": [
    "def biseccion(a,b,f,tol):\n",
    "    if np.sign (f(a))==np.sign(f(b)):\n",
    "        print(\"No hay raíz en el intervalo propuesto\")\n",
    "    m=(a+b)/2\n",
    "    if np.abs(f(m))<tol:\n",
    "        return m\n",
    "    elif np.sign(f(a))==np.sign(f(m)):\n",
    "        return(biseccion(m,b,f,tol))\n",
    "    elif np.sign(f(b))==np.sign(f(m)):\n",
    "        return(biseccion(a,m,f,tol)) \n"
   ]
  },
  {
   "cell_type": "code",
   "execution_count": 4,
   "metadata": {},
   "outputs": [
    {
     "name": "stdout",
     "output_type": "stream",
     "text": [
      "la raiz es 1.4375\n"
     ]
    }
   ],
   "source": [
    "f=lambda x:x**2-2\n",
    "r1=biseccion(0,2,f,0.1)\n",
    "print(\"la raiz es\", r1)"
   ]
  },
  {
   "cell_type": "markdown",
   "metadata": {},
   "source": []
  }
 ],
 "metadata": {
  "kernelspec": {
   "display_name": "my_env",
   "language": "python",
   "name": "python3"
  },
  "language_info": {
   "codemirror_mode": {
    "name": "ipython",
    "version": 3
   },
   "file_extension": ".py",
   "mimetype": "text/x-python",
   "name": "python",
   "nbconvert_exporter": "python",
   "pygments_lexer": "ipython3",
   "version": "3.12.9"
  }
 },
 "nbformat": 4,
 "nbformat_minor": 2
}
